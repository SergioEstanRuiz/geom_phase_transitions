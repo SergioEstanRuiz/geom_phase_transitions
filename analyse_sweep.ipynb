{
 "cells": [
  {
   "cell_type": "markdown",
   "id": "da51dc7d",
   "metadata": {},
   "source": [
    "### Analysing results from sweeps\n",
    "We conducted a sweep to look at the effect of changing the following hyper-parameters and constants:\n",
    "- Prime constant defining the modular arithmetic task, eg. $p \\in [53, \\ldots , 97]$ \n",
    "- bla \n",
    "- bla \n",
    "\n",
    "For each run we have the following information:\n",
    "- LLC curves\n",
    "- Training and testing loss and accuracy\n",
    "- Cross-correlation between LLC curves and testing accuracy\n",
    "\n",
    "We now wish to perform more exploratory analysis. We'll produce a table which looks like this:\n",
    "\n",
    "| Hyper-parameters and constants | Grokking Test 1 | Grokking Test 2 | Peak of Cross-correlation curve |\n",
    "|--------------------------------|-----------------|-----------------|---------------------------------|\n",
    "| p=53, ...                      | Yes             |  Yes            | -1                              |\n"
   ]
  },
  {
   "cell_type": "code",
   "execution_count": null,
   "id": "1dbc6f28",
   "metadata": {},
   "outputs": [],
   "source": [
    "import os \n",
    "import pandas\n",
    "from utils.metrics import list_lagged_correlation"
   ]
  },
  {
   "cell_type": "code",
   "execution_count": 15,
   "id": "f34eeb50",
   "metadata": {},
   "outputs": [],
   "source": [
    "def grokking_test1(test_acc):\n",
    "    if test_acc[-1] > 0.95:\n",
    "        return True\n",
    "    else:\n",
    "        return False\n",
    "    \n",
    "def grokking_test2(train_acc, test_acc):\n",
    "    return True\n"
   ]
  },
  {
   "cell_type": "code",
   "execution_count": null,
   "id": "852a4192",
   "metadata": {},
   "outputs": [
    {
     "name": "stdout",
     "output_type": "stream",
     "text": [
      "     p     lr weight_decay grokking_test1\n",
      "0   53  0.005       0.0002           True\n",
      "2   53  0.005       0.0002           True\n",
      "3   53  0.005       0.0002           True\n",
      "4   53  0.005       0.0002           True\n",
      "5   59  0.005       0.0002          False\n",
      "6   61  0.005       0.0002           True\n",
      "7   67  0.005       0.0002           True\n",
      "8   71  0.005       0.0002           True\n",
      "9   73  0.005       0.0002           True\n",
      "10  79  0.005       0.0002           True\n",
      "11  83  0.005       0.0002           True\n",
      "12  89  0.005       0.0002           True\n",
      "13  97  0.005       0.0002           True\n"
     ]
    }
   ],
   "source": [
    "sweeps = os.listdir(\"./results\")\n",
    "df = pandas.DataFrame(columns=[\"p\",\"lr\",\"weight_decay\", \"grokking_test1\"])\n",
    "for i, folder in enumerate(sweeps):\n",
    "    if folder == \"EleutherAI\":\n",
    "        continue\n",
    "    params = pandas.read_csv(f\"./results/{folder}/params.csv\")\n",
    "    loss_data = pandas.read_csv(f\"./results/{folder}/loss_data.csv\")\n",
    "    for column in df.columns:\n",
    "        if column in params.columns:\n",
    "            df.loc[i, column] = params[column].values[0]\n",
    "        \n",
    "    df.loc[i, \"grokking_test1\"] = grokking_test1(loss_data[\"val_acc\"].values)\n",
    "    \n",
    "    \n",
    "\n",
    "print(df)"
   ]
  }
 ],
 "metadata": {
  "kernelspec": {
   "display_name": "venv",
   "language": "python",
   "name": "python3"
  },
  "language_info": {
   "codemirror_mode": {
    "name": "ipython",
    "version": 3
   },
   "file_extension": ".py",
   "mimetype": "text/x-python",
   "name": "python",
   "nbconvert_exporter": "python",
   "pygments_lexer": "ipython3",
   "version": "3.10.12"
  }
 },
 "nbformat": 4,
 "nbformat_minor": 5
}
