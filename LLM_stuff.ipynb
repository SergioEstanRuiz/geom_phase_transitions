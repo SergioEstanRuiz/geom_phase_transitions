{
 "cells": [
  {
   "cell_type": "code",
   "execution_count": 1,
   "id": "db1f6dde",
   "metadata": {},
   "outputs": [
    {
     "name": "stderr",
     "output_type": "stream",
     "text": [
      "/home/se24/geom_phase_transitions/.venv/lib/python3.10/site-packages/tqdm/auto.py:21: TqdmWarning: IProgress not found. Please update jupyter and ipywidgets. See https://ipywidgets.readthedocs.io/en/stable/user_install.html\n",
      "  from .autonotebook import tqdm as notebook_tqdm\n"
     ]
    }
   ],
   "source": [
    "from transformers import AutoTokenizer, AutoModelForCausalLM\n",
    "\n",
    "model_id = \"facebook/opt-125m\"\n",
    "\n",
    "tokenizer = AutoTokenizer.from_pretrained(model_id)\n",
    "model = AutoModelForCausalLM.from_pretrained(model_id)"
   ]
  },
  {
   "cell_type": "code",
   "execution_count": 2,
   "id": "ff5d502b",
   "metadata": {},
   "outputs": [],
   "source": [
    "from datasets import load_dataset\n",
    "from torch.utils.data import DataLoader\n",
    "\n",
    "# Load the wikitext-2 dataset\n",
    "dataset = load_dataset(\"wikitext\", \"wikitext-2-raw-v1\", split=\"train\")\n",
    "subset = dataset.shuffle(seed=42).select(range(1000))  # Only has 8 sentences\n"
   ]
  },
  {
   "cell_type": "code",
   "execution_count": 25,
   "id": "256d2bf2",
   "metadata": {},
   "outputs": [
    {
     "name": "stdout",
     "output_type": "stream",
     "text": [
      "{'text': ' \" Peace process or peace panic ? - The scourge of Palestinian moderation \" , Middle East Report , 19 ( 1989 ) 3 / 158 , pp. 25 – 26 @,@ 28 @-@ 30 @,@ 42 \\n'}\n"
     ]
    }
   ],
   "source": [
    "print(subset[6])  # Print the first sample to verify loading"
   ]
  },
  {
   "cell_type": "code",
   "execution_count": null,
   "id": "5d078955",
   "metadata": {},
   "outputs": [
    {
     "name": "stderr",
     "output_type": "stream",
     "text": [
      "Map: 100%|██████████| 1000/1000 [00:00<00:00, 5845.31 examples/s]\n"
     ]
    }
   ],
   "source": [
    "def tokenize(example):\n",
    "    return tokenizer(example[\"text\"], truncation=True, padding=\"max_length\", max_length=128)\n",
    "\n",
    "tokenized = subset.map(tokenize, batched=True, remove_columns=[\"text\"])\n",
    "# Set the format for PyTorch, so we can use it in a DataLoader\n",
    "# Each element has 'input_ids' and 'attention_mask'\n",
    "# 'Input_ids' are the tokenized input sequences\n",
    "# 'Attention_mask' indicates which tokens are actual input and which are padding\n",
    "tokenized.set_format(type=\"torch\", columns=[\"input_ids\", \"attention_mask\"])\n",
    "\n",
    "# Wrap in DataLoader\n",
    "loader = DataLoader(tokenized, batch_size=16)"
   ]
  },
  {
   "cell_type": "code",
   "execution_count": 3,
   "id": "3f0ea0ba",
   "metadata": {},
   "outputs": [],
   "source": [
    "from tqdm import tqdm\n",
    "import torch"
   ]
  },
  {
   "cell_type": "code",
   "execution_count": null,
   "id": "be17569b",
   "metadata": {},
   "outputs": [],
   "source": [
    "model_name = \"EleutherAI/pythia‑70m\"  # replace size as needed\n",
    "revision_list = [0,1,2,4,8,16,32,64,128,256,512]\n",
    "device = torch.device(\"cuda\" if torch.cuda.is_available() else \"cpu\")\n",
    "tokenizer = AutoTokenizer.from_pretrained(model_name)\n",
    "from devinterp.slt.sampler import estimate_learning_coeff_with_summary\n",
    "\n",
    "llc_values = []\n",
    "for revision in tqdm(revision_list):\n",
    "    revision = f\"step{revision}\"\n",
    "    model = AutoModelForCausalLM.from_pretrained(model_name, revision=revision).to(device)\n",
    "    llc = estimate_learning_coeff_with_summary(\n",
    "    model=model,\n",
    "    loader=DataLoader(train_data, batch_size=params.batch_size, shuffle=True),\n",
    "    evaluate=evaluate_ce,\n",
    "    sampling_method=SGLD,\n",
    "    optimizer_kwargs=dict(lr=0.003, nbeta=2.0, localization=5.0),\n",
    "    num_chains=1,\n",
    "    num_draws=500,\n",
    "    device=device,\n",
    "    online=False,\n",
    "    )['llc/mean']\n",
    "    llc_values.append((revision,llc))\n"
   ]
  }
 ],
 "metadata": {
  "kernelspec": {
   "display_name": ".venv",
   "language": "python",
   "name": "python3"
  },
  "language_info": {
   "codemirror_mode": {
    "name": "ipython",
    "version": 3
   },
   "file_extension": ".py",
   "mimetype": "text/x-python",
   "name": "python",
   "nbconvert_exporter": "python",
   "pygments_lexer": "ipython3",
   "version": "3.10.12"
  }
 },
 "nbformat": 4,
 "nbformat_minor": 5
}
